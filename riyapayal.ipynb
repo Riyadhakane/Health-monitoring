{
 "cells": [
  {
   "cell_type": "code",
   "execution_count": 22,
   "id": "2be0f58b-c14e-40cf-857a-796231d8c00b",
   "metadata": {},
   "outputs": [
    {
     "name": "stdout",
     "output_type": "stream",
     "text": [
      "1.Enter your name\n"
     ]
    },
    {
     "name": "stdin",
     "output_type": "stream",
     "text": [
      " payal\n"
     ]
    },
    {
     "name": "stdout",
     "output_type": "stream",
     "text": [
      "2.Enter your age\n"
     ]
    },
    {
     "name": "stdin",
     "output_type": "stream",
     "text": [
      " 18\n"
     ]
    },
    {
     "name": "stdout",
     "output_type": "stream",
     "text": [
      "3.Enter your weight in kg\n"
     ]
    },
    {
     "name": "stdin",
     "output_type": "stream",
     "text": [
      " 55\n"
     ]
    },
    {
     "name": "stdout",
     "output_type": "stream",
     "text": [
      "4.Enter your height in m\n"
     ]
    },
    {
     "name": "stdin",
     "output_type": "stream",
     "text": [
      " 1.6\n"
     ]
    },
    {
     "name": "stdout",
     "output_type": "stream",
     "text": [
      "1.Enter your name is : payal\n",
      "2.Enter your age is : 18\n",
      "3.Enter your weight is : 55\n",
      "4.Enter your height is : 1.6\n",
      "your BMI is :21.484374999999996\n",
      "normal weight\n",
      "5.Enter your BP\n"
     ]
    },
    {
     "name": "stdin",
     "output_type": "stream",
     "text": [
      " 130\n"
     ]
    },
    {
     "name": "stdout",
     "output_type": "stream",
     "text": [
      "High BP\n",
      "6.Enter your sugar\n"
     ]
    },
    {
     "name": "stdin",
     "output_type": "stream",
     "text": [
      " 150\n"
     ]
    },
    {
     "name": "stdout",
     "output_type": "stream",
     "text": [
      "High sugar\n"
     ]
    },
    {
     "name": "stdin",
     "output_type": "stream",
     "text": [
      "Enter carbohydrates intake:  200\n",
      "Enter proteins intake:  50\n",
      "Enter fats intake:  70\n",
      "Enter sleep time (HH:MM):  23:00\n",
      "Enter wake-up time (HH:MM):  7:30\n"
     ]
    },
    {
     "name": "stdout",
     "output_type": "stream",
     "text": [
      "Sleep Duration: 8 hours and 30 minutes\n"
     ]
    },
    {
     "name": "stdin",
     "output_type": "stream",
     "text": [
      "Enter number of steps taken today 120000\n"
     ]
    },
    {
     "name": "stdout",
     "output_type": "stream",
     "text": [
      "Total steps :120000\n",
      "activity level :High activity\n",
      "\n",
      "====== Health Monitoring App ======\n",
      "1. Log Activity\n",
      "2. View Health Insights\n",
      "3. Set Wellness Goals\n",
      "4. View Wellness Goals\n",
      "5. Exit\n"
     ]
    },
    {
     "name": "stdin",
     "output_type": "stream",
     "text": [
      "Choose an option (1-5):  1\n"
     ]
    },
    {
     "name": "stdout",
     "output_type": "stream",
     "text": [
      "\n",
      "--- Log Activity ---\n"
     ]
    },
    {
     "name": "stdin",
     "output_type": "stream",
     "text": [
      "Enter activity name (e.g., Walking, Yoga):  running\n",
      "Enter duration (in minutes):  30\n"
     ]
    },
    {
     "name": "stdout",
     "output_type": "stream",
     "text": [
      "Logged: running for 30 minutes.\n",
      "\n",
      "====== Health Monitoring App ======\n",
      "1. Log Activity\n",
      "2. View Health Insights\n",
      "3. Set Wellness Goals\n",
      "4. View Wellness Goals\n",
      "5. Exit\n"
     ]
    },
    {
     "name": "stdin",
     "output_type": "stream",
     "text": [
      "Choose an option (1-5):  2\n"
     ]
    },
    {
     "name": "stdout",
     "output_type": "stream",
     "text": [
      "\n",
      "--- Health Insights ---\n",
      "Average Steps: 7500\n",
      "Average Sleep Hours: 7\n",
      "Water Intake Liters: 2.3\n",
      "\n",
      "====== Health Monitoring App ======\n",
      "1. Log Activity\n",
      "2. View Health Insights\n",
      "3. Set Wellness Goals\n",
      "4. View Wellness Goals\n",
      "5. Exit\n"
     ]
    },
    {
     "name": "stdin",
     "output_type": "stream",
     "text": [
      "Choose an option (1-5):  3\n"
     ]
    },
    {
     "name": "stdout",
     "output_type": "stream",
     "text": [
      "\n",
      "--- Set Wellness Goals ---\n"
     ]
    },
    {
     "name": "stdin",
     "output_type": "stream",
     "text": [
      "Enter your new wellness goal:  yoga\n"
     ]
    },
    {
     "name": "stdout",
     "output_type": "stream",
     "text": [
      "Goal added: yoga\n",
      "\n",
      "====== Health Monitoring App ======\n",
      "1. Log Activity\n",
      "2. View Health Insights\n",
      "3. Set Wellness Goals\n",
      "4. View Wellness Goals\n",
      "5. Exit\n"
     ]
    },
    {
     "name": "stdin",
     "output_type": "stream",
     "text": [
      "Choose an option (1-5):  3\n"
     ]
    },
    {
     "name": "stdout",
     "output_type": "stream",
     "text": [
      "\n",
      "--- Set Wellness Goals ---\n"
     ]
    },
    {
     "name": "stdin",
     "output_type": "stream",
     "text": [
      "Enter your new wellness goal:  swimming\n"
     ]
    },
    {
     "name": "stdout",
     "output_type": "stream",
     "text": [
      "Goal added: swimming\n",
      "\n",
      "====== Health Monitoring App ======\n",
      "1. Log Activity\n",
      "2. View Health Insights\n",
      "3. Set Wellness Goals\n",
      "4. View Wellness Goals\n",
      "5. Exit\n"
     ]
    },
    {
     "name": "stdin",
     "output_type": "stream",
     "text": [
      "Choose an option (1-5):  4\n"
     ]
    },
    {
     "name": "stdout",
     "output_type": "stream",
     "text": [
      "\n",
      "--- Your Wellness Goals ---\n",
      "1. yoga\n",
      "2. swimming\n",
      "\n",
      "====== Health Monitoring App ======\n",
      "1. Log Activity\n",
      "2. View Health Insights\n",
      "3. Set Wellness Goals\n",
      "4. View Wellness Goals\n",
      "5. Exit\n"
     ]
    },
    {
     "name": "stdin",
     "output_type": "stream",
     "text": [
      "Choose an option (1-5):  5\n"
     ]
    },
    {
     "name": "stdout",
     "output_type": "stream",
     "text": [
      "Exiting app. Stay healthy!\n",
      "Activity 'Morning Jog - 30 minutes' added.\n",
      "Activity 'Yoga Session - 45 minutes' added.\n",
      "Meal 'Breakfast - Oats' with 250 calories added.\n",
      "Meal 'Lunch - Chicken Salad' with 400 calories added.\n",
      "Sleep record for 2025-04-27 (7 hours) added.\n",
      "Sleep record for 2025-04-28 (8 hours) added.\n",
      "\n",
      "Activity Logs:\n",
      "- Morning Jog - 30 minutes\n",
      "- Yoga Session - 45 minutes\n",
      "\n",
      "Nutrition Details:\n",
      "- Meal: Breakfast - Oats, Calories: 250\n",
      "- Meal: Lunch - Chicken Salad, Calories: 400\n",
      "\n",
      "Sleep Patterns:\n",
      "- Date: 2025-04-27, Hours Slept: 7\n",
      "- Date: 2025-04-28, Hours Slept: 8\n"
     ]
    },
    {
     "name": "stdin",
     "output_type": "stream",
     "text": [
      "How many activities do you want to enter?  2\n"
     ]
    },
    {
     "name": "stdout",
     "output_type": "stream",
     "text": [
      "\n",
      "Enter details for activity 1:\n"
     ]
    },
    {
     "name": "stdin",
     "output_type": "stream",
     "text": [
      "Enter date (YYYY-MM-DD):  2025-5-1\n",
      "Enter activity type:  running\n",
      "Enter duration in minutes:  60\n"
     ]
    },
    {
     "name": "stdout",
     "output_type": "stream",
     "text": [
      "\n",
      "Enter details for activity 2:\n"
     ]
    },
    {
     "name": "stdin",
     "output_type": "stream",
     "text": [
      "Enter date (YYYY-MM-DD):  2025-5-2\n",
      "Enter activity type:  yoga\n",
      "Enter duration in minutes:  50\n"
     ]
    },
    {
     "name": "stdout",
     "output_type": "stream",
     "text": [
      "\n",
      "Activity Records:\n",
      "Date: 2025-5-1, Activity: running, Duration: 60 minutes\n",
      "Date: 2025-5-2, Activity: yoga, Duration: 50 minutes\n",
      "Wellness Goals:\n",
      "\n",
      "Fitness:\n",
      "- Run 5km three times a week\n",
      "- Strength training twice a week\n",
      "\n",
      "Nutrition:\n",
      "- Eat 5 servings of vegetables daily\n",
      "- Drink 2 liters of water daily\n",
      "\n",
      "Sleep:\n",
      "- Sleep at least 8 hours every night\n",
      "- Maintain a consistent sleep schedule\n"
     ]
    }
   ],
   "source": [
    "print(\"1.Enter your name\")\n",
    "name=input()\n",
    "print(\"2.Enter your age\")\n",
    "age=int(input())\n",
    "print(\"3.Enter your weight in kg\")\n",
    "weight=int(input())\n",
    "print(\"4.Enter your height in m\")\n",
    "height=float(input())\n",
    "\n",
    "print(\"1.Enter your name is :\",name)\n",
    "print(\"2.Enter your age is :\",age)\n",
    "print(\"3.Enter your weight is :\",weight)\n",
    "print(\"4.Enter your height is :\",height)\n",
    "\n",
    "\n",
    "BMI = weight/(height **2)\n",
    "print(f\"your BMI is :{BMI}\")\n",
    "\n",
    "if BMI<18.5:\n",
    "    print(\"underweight\")\n",
    "elif 18.5<=BMI<24.9:\n",
    "    print(\"normal weight\")\n",
    "elif 25<=BMI<29.9:\n",
    "    print(\"overweight\")\n",
    "else:\n",
    "    print(\"obesed\")\n",
    "\n",
    "\n",
    "print(\"5.Enter your BP\")\n",
    "BP=int(input())\n",
    "\n",
    "if 80<=BP<=120:\n",
    "   print(\"Normal BP\")\n",
    "if 120<=BP<=180:\n",
    "   print(\"High BP\")\n",
    "else:\n",
    "    print(\"Low BP\")\n",
    "\n",
    "\n",
    "print(\"6.Enter your sugar\")\n",
    "sugar=int(input())\n",
    "\n",
    "if 70<=sugar<=120:\n",
    "   print(\"Normal sugar\")\n",
    "if 120<=sugar<=200:\n",
    "   print(\"High sugar\")\n",
    "else:\n",
    "    print(\"Low sugar\")\n",
    "\n",
    "\n",
    "def calculate_calories(carbs,proteins,fats):\n",
    "    calories_from_carbs=carbs*4\n",
    "    calories_from_proteins=proteins*4\n",
    "    calories_from_fats=fats*9\n",
    "    total_calories=calories_from_carbs+calories_from_proteins+calories_from_fats\n",
    "\n",
    "    return {\n",
    "            \"carbs gram:\",carbs,\n",
    "            \"proteins gram:\",proteins,\n",
    "            \"fats gram:\",fats,\n",
    "            \"total calories:\",total_calories\n",
    "    }\n",
    "\n",
    "carbs = float(input(\"Enter carbohydrates intake: \"))\n",
    "proteins = float(input(\"Enter proteins intake: \"))\n",
    "fats = float(input(\"Enter fats intake: \"))\n",
    "\n",
    "calculate_calories(carbs,proteins,fats) \n",
    "\n",
    "from datetime import datetime, timedelta\n",
    "\n",
    "def calculate_sleep_duration(sleep_time_str, wake_time_str):\n",
    "    time_format = \"%H:%M\"\n",
    "\n",
    "    sleep_time = datetime.strptime(sleep_time_str, time_format)\n",
    "    wake_time = datetime.strptime(wake_time_str, time_format)\n",
    "\n",
    "    if wake_time <= sleep_time:\n",
    "        wake_time += timedelta(days=1)\n",
    "\n",
    "    sleep_duration = wake_time - sleep_time\n",
    "    \n",
    "    hours = sleep_duration.seconds // 3600\n",
    "    minutes = (sleep_duration.seconds % 3600) // 60\n",
    "    return hours, minutes\n",
    "\n",
    "sleep_time = input(\"Enter sleep time (HH:MM): \")\n",
    "wake_time = input(\"Enter wake-up time (HH:MM): \")\n",
    "\n",
    "hours, minutes = calculate_sleep_duration(sleep_time, wake_time)\n",
    "print(f\"Sleep Duration: {hours} hours and {minutes} minutes\")\n",
    "\n",
    "\n",
    "def step_count():\n",
    "    steps=int(input(\"Enter number of steps taken today\"))\n",
    "    if steps ==5000:\n",
    "        status=\"low activity\"\n",
    "    elif 5000<=steps<10000:\n",
    "        status=\"moderate activity\"\n",
    "    else:\n",
    "        status=\"High activity\"\n",
    "        print(f\"Total steps :{steps}\")\n",
    "        print(f\"activity level :{status}\")\n",
    "step_count()\n",
    "\n",
    "\n",
    "activity_log = []\n",
    "health_insights = { \"average_steps\": 7500, \"average_sleep_hours\": 7, \"water_intake_liters\": 2.3}\n",
    "wellness_goals = []\n",
    "\n",
    "def log_activity():\n",
    "    print(\"\\n--- Log Activity ---\")\n",
    "    activity = input(\"Enter activity name (e.g., Walking, Yoga): \")\n",
    "    duration = input(\"Enter duration (in minutes): \")\n",
    "    activity_log.append({\"activity\": activity, \"duration\": duration})\n",
    "    print(f\"Logged: {activity} for {duration} minutes.\")\n",
    "\n",
    "def view_health_insights():\n",
    "    print(\"\\n--- Health Insights ---\")\n",
    "    for key, value in health_insights.items():\n",
    "        print(f\"{key.replace('_', ' ').title()}: {value}\")\n",
    "\n",
    "def set_wellness_goals():\n",
    "    print(\"\\n--- Set Wellness Goals ---\")\n",
    "    goal = input(\"Enter your new wellness goal: \")\n",
    "    wellness_goals.append(goal)\n",
    "    print(f\"Goal added: {goal}\")\n",
    "\n",
    "def view_goals():\n",
    "    print(\"\\n--- Your Wellness Goals ---\")\n",
    "    if wellness_goals:\n",
    "        for i, goal in enumerate(wellness_goals, 1):\n",
    "            print(f\"{i}. {goal}\")\n",
    "    else:\n",
    "        print(\"No goals set yet.\")\n",
    "\n",
    "def main_menu():\n",
    "    while True:\n",
    "        print(\"\\n====== Health Monitoring App ======\")\n",
    "        print(\"1. Log Activity\")\n",
    "        print(\"2. View Health Insights\")\n",
    "        print(\"3. Set Wellness Goals\")\n",
    "        print(\"4. View Wellness Goals\")\n",
    "        print(\"5. Exit\")\n",
    "\n",
    "        choice = input(\"Choose an option (1-5): \")\n",
    "\n",
    "        if choice == \"1\":\n",
    "            log_activity()\n",
    "        elif choice == \"2\":\n",
    "            view_health_insights()\n",
    "        elif choice == \"3\":\n",
    "            set_wellness_goals()\n",
    "        elif choice == \"4\":\n",
    "            view_goals()\n",
    "        elif choice == \"5\":\n",
    "            print(\"Exiting app. Stay healthy!\")\n",
    "            break\n",
    "        else:\n",
    "            print(\"Invalid choice. Try again.\")\n",
    "\n",
    "\n",
    "main_menu()\n",
    "\n",
    "\n",
    "        \n",
    "activity_logs = []\n",
    "nutrition_details = []\n",
    "sleep_patterns = []\n",
    "\n",
    "def add_activity(activity):\n",
    "    activity_logs.append(activity)\n",
    "    print(f\"Activity '{activity}' added.\")\n",
    "\n",
    "def add_nutrition(meal, calories):\n",
    "    nutrition_details.append({\"meal\": meal, \"calories\": calories})\n",
    "    print(f\"Meal '{meal}' with {calories} calories added.\")\n",
    "\n",
    "def add_sleep(date, hours):\n",
    "    sleep_patterns.append({\"date\": date, \"hours_slept\": hours})\n",
    "    print(f\"Sleep record for {date} ({hours} hours) added.\")\n",
    "\n",
    "def display_activities():\n",
    "    print(\"\\nActivity Logs:\")\n",
    "    for activity in activity_logs:\n",
    "        print(f\"- {activity}\")\n",
    "\n",
    "def display_nutrition():\n",
    "    print(\"\\nNutrition Details:\")\n",
    "    for item in nutrition_details:\n",
    "        print(f\"- Meal: {item['meal']}, Calories: {item['calories']}\")\n",
    "\n",
    "def display_sleep():\n",
    "    print(\"\\nSleep Patterns:\")\n",
    "    for record in sleep_patterns:\n",
    "        print(f\"- Date: {record['date']}, Hours Slept: {record['hours_slept']}\")\n",
    "\n",
    "add_activity(\"Morning Jog - 30 minutes\")\n",
    "add_activity(\"Yoga Session - 45 minutes\")\n",
    "\n",
    "add_nutrition(\"Breakfast - Oats\", 250)\n",
    "add_nutrition(\"Lunch - Chicken Salad\", 400)\n",
    "\n",
    "add_sleep(\"2025-04-27\", 7)\n",
    "add_sleep(\"2025-04-28\", 8)\n",
    "\n",
    "display_activities()\n",
    "display_nutrition()\n",
    "display_sleep()\n",
    "\n",
    "activities = []\n",
    "\n",
    "num_activities = int(input(\"How many activities do you want to enter? \"))\n",
    "\n",
    "for i in range(num_activities):\n",
    "    print(f\"\\nEnter details for activity {i+1}:\")\n",
    "    date = input(\"Enter date (YYYY-MM-DD): \")\n",
    "    activity_type = input(\"Enter activity type: \")\n",
    "    duration = int(input(\"Enter duration in minutes: \"))\n",
    "    activity = (date, activity_type, duration) \n",
    "    activities.append(activity)\n",
    "\n",
    "print(\"\\nActivity Records:\")\n",
    "for activity in activities:\n",
    "    date, activity_type, duration = activity\n",
    "    print(f\"Date: {date}, Activity: {activity_type}, Duration: {duration} minutes\")\n",
    "    \n",
    "wellness_goals = {\n",
    "    \"Fitness\": (\"Run 5km three times a week\", \"Strength training twice a week\"),\n",
    "    \"Nutrition\": (\"Eat 5 servings of vegetables daily\", \"Drink 2 liters of water daily\"),\n",
    "    \"Sleep\":(\"Sleep at least 8 hours every night\", \"Maintain a consistent sleep schedule\")\n",
    "}\n",
    "print(\"Wellness Goals:\")\n",
    "for category, goals in wellness_goals.items():\n",
    "    print(f\"\\n{category}:\")\n",
    "    for goal in goals:\n",
    "        print(f\"- {goal}\")\n",
    "    \n",
    "\n"
   ]
  },
  {
   "cell_type": "code",
   "execution_count": null,
   "id": "944c59e3-650b-4485-b7b8-278a4453252c",
   "metadata": {},
   "outputs": [],
   "source": []
  }
 ],
 "metadata": {
  "kernelspec": {
   "display_name": "Python 3 (ipykernel)",
   "language": "python",
   "name": "python3"
  },
  "language_info": {
   "codemirror_mode": {
    "name": "ipython",
    "version": 3
   },
   "file_extension": ".py",
   "mimetype": "text/x-python",
   "name": "python",
   "nbconvert_exporter": "python",
   "pygments_lexer": "ipython3",
   "version": "3.12.7"
  }
 },
 "nbformat": 4,
 "nbformat_minor": 5
}
